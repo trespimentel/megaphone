{
  "nbformat": 4,
  "nbformat_minor": 0,
  "metadata": {
    "colab": {
      "provenance": []
    },
    "kernelspec": {
      "name": "python3",
      "display_name": "Python 3"
    },
    "language_info": {
      "name": "python"
    }
  },
  "cells": [
    {
      "cell_type": "code",
      "source": [
        "!pip3 install whisper-timestamped"
      ],
      "metadata": {
        "id": "l4lqpqemI6Rt"
      },
      "execution_count": null,
      "outputs": []
    },
    {
      "cell_type": "code",
      "source": [
        "import numpy as np\n",
        "import matplotlib.pyplot as plt\n",
        "import random\n",
        "import json\n",
        "import IPython.display as ipd\n",
        "\n",
        "import librosa\n",
        "import librosa.display\n",
        "\n",
        "import soundfile as sf\n",
        "import wave\n",
        "import torch\n",
        "import torchaudio\n",
        "\n",
        "from google.colab import drive\n",
        "\n",
        "from scipy.io.wavfile import write\n",
        "\n",
        "import whisper_timestamped as whisper\n",
        "\n",
        "import utils as u"
      ],
      "metadata": {
        "id": "krUobL7JI6zF"
      },
      "execution_count": null,
      "outputs": []
    },
    {
      "cell_type": "code",
      "source": [
        "# mount google drive\n",
        "# change data_path as needed to wherever you want to put output\n",
        "drive.mount('/content/drive')\n",
        "data_path = \"/content/drive/MyDrive/megaphone/audio_samples\""
      ],
      "metadata": {
        "id": "qcdc9emtKJgc"
      },
      "execution_count": null,
      "outputs": []
    },
    {
      "cell_type": "code",
      "execution_count": null,
      "metadata": {
        "id": "jsyLyu31BXF8"
      },
      "outputs": [],
      "source": [
        "# these are the pitch adjustments that will be made, in semitones\n",
        "d_pitches = [-2,-1,0,1,2]\n",
        "# these are the percentages that the track or word will be slowed\n",
        "p_slowers = [0.15, 0.1, 0.08, 0.05, 0.03]\n",
        "# name of the file you are using\n",
        "file_path = \"megaphone_test_audio_small.mp3\"\n",
        "# common prefix for all saved files\n",
        "save_prefix = \"7_19_v3\""
      ]
    },
    {
      "cell_type": "code",
      "source": [
        "save_path = data_path+\"/\"+save_prefix"
      ],
      "metadata": {
        "id": "OIkUcNY5N6qp"
      },
      "execution_count": null,
      "outputs": []
    },
    {
      "cell_type": "code",
      "source": [
        "save_path"
      ],
      "metadata": {
        "id": "iagHy16oy-Uo"
      },
      "execution_count": null,
      "outputs": []
    },
    {
      "cell_type": "code",
      "source": [
        "# load the audio sample\n",
        "y,sr = librosa.load(file_path)"
      ],
      "metadata": {
        "id": "9t-G1RQIJFuB"
      },
      "execution_count": null,
      "outputs": []
    },
    {
      "cell_type": "code",
      "source": [
        "# run the audio through whisper to get the words and timestamps (start + end times of words)\n",
        "\n",
        "audio = whisper.load_audio(file_path)\n",
        "\n",
        "model = whisper.load_model(\"tiny\", device=\"cpu\")\n",
        "\n",
        "result = whisper.transcribe(model, audio, language=\"en\")\n",
        "\n",
        "result_formatted = json.dumps(result, indent = 2, ensure_ascii = False)\n",
        "\n",
        "result_dict = json.loads(result_formatted)\n",
        "print(result_dict)"
      ],
      "metadata": {
        "id": "DBwb_wtjJJKc"
      },
      "execution_count": null,
      "outputs": []
    },
    {
      "cell_type": "code",
      "source": [
        "# sometimes the words appear in the 0th index, sometimes in 1... idk why\n",
        "try:\n",
        "  result_dict_indexed = result_dict[\"segments\"][1][\"words\"]\n",
        "except:\n",
        "  result_dict_indexed = result_dict[\"segments\"][0][\"words\"]"
      ],
      "metadata": {
        "id": "Y0fCb0xHJNwO"
      },
      "execution_count": null,
      "outputs": []
    },
    {
      "cell_type": "code",
      "source": [
        "# get words and start times\n",
        "start_times = []\n",
        "words = []\n",
        "for word in result_dict_indexed:\n",
        "  start_times.append(word[\"start\"])\n",
        "  words.append(word[\"text\"])"
      ],
      "metadata": {
        "id": "KvR84yAAJPPB"
      },
      "execution_count": null,
      "outputs": []
    },
    {
      "cell_type": "code",
      "source": [
        "# names of directories\n",
        "file_partial_names = [\"all_slowed\",\n",
        "              \"alt_speed\",\n",
        "              \"random_word_slower_sample\",\n",
        "              \"chosen_word_slower_sample\",\n",
        "              \"all_pitched_down\",\n",
        "              \"alt_pitch\",\n",
        "              \"random_word_pitched_down_sample\",\n",
        "              \"chosen_word_pitched_down_sample\",\n",
        "              \"all_slow_rand_pitched\",\n",
        "              \"all_slow_chosen_pitched\",\n",
        "              \"all_pitched_rand_slow\",\n",
        "              \"all_pitched_chosen_slow\"\n",
        "              ]\n",
        "\n",
        "directories = [data_path + \"/\" + save_prefix + \"/\" + x for x in file_partial_names]"
      ],
      "metadata": {
        "id": "H_22z688P7od"
      },
      "execution_count": null,
      "outputs": []
    },
    {
      "cell_type": "code",
      "source": [
        "# write files with this naming convetion\n",
        "def write1():\n",
        "  write(save_prefix + file_path.split(\".\")[0] + str(p_slow)+  \"$all_slowed.wav\", sr, all_slowed)\n",
        "  write(save_prefix + file_path.split(\".\")[0] + str(p_slow)+ \"$alt_speed.wav\", sr, alt_speed)\n",
        "  write(save_prefix + file_path.split(\".\")[0] + str(p_slow)+ \"$random_word_slower_sample.wav\", sr, random_word_slower_sample)\n",
        "  write(save_prefix + file_path.split(\".\")[0] + str(p_slow)+ \"$chosen_word_slower_sample.wav\", sr, chosen_word_slower_sample)\n",
        "\n",
        "def write2():\n",
        "  write(save_prefix + file_path.split(\".\")[0] + str(d_pitch)+ \"$all_pitched_down.wav\", sr, all_pitched_down)\n",
        "  write(save_prefix + file_path.split(\".\")[0] + str(d_pitch)+ \"$alt_pitch.wav\", sr, alt_pitch)\n",
        "  write(save_prefix + file_path.split(\".\")[0] + str(d_pitch)+ \"$random_word_pitched_down_sample.wav\", sr, random_word_pitched_down_sample)\n",
        "  write(save_prefix + file_path.split(\".\")[0] + str(d_pitch)+ \"$chosen_word_pitched_down_sample.wav\", sr, chosen_word_pitched_down_sample)\n",
        "\n",
        "def write3():\n",
        "  write(save_prefix + file_path.split(\".\")[0] + str(p_slow)+ str(d_pitch)+ \"$all_slow_rand_pitched.wav\", sr, all_slow_rand_pitched)\n",
        "  write(save_prefix + file_path.split(\".\")[0] + str(p_slow)+ str(d_pitch)+ \"$all_slow_chosen_pitched.wav\", sr, all_slow_chosen_pitched)\n",
        "  write(save_prefix + file_path.split(\".\")[0] + str(p_slow)+ str(d_pitch)+ \"$all_pitched_rand_slow.wav\", sr, all_pitched_rand_slow)\n",
        "  write(save_prefix + file_path.split(\".\")[0] + str(p_slow)+ str(d_pitch)+ \"$all_pitched_chosen_slow.wav\", sr, all_pitched_chosen_slow)"
      ],
      "metadata": {
        "id": "ERZejMArbFq0"
      },
      "execution_count": null,
      "outputs": []
    },
    {
      "cell_type": "code",
      "source": [
        "# make directories in google drive for each sample\n",
        "!mkdir -p /content/drive/MyDrive/megaphone/audio_samples/{save_prefix}\n",
        "\n",
        "!mkdir -p /content/drive/MyDrive/megaphone/audio_samples/{save_prefix}/all_slowed\n",
        "!mkdir -p /content/drive/MyDrive/megaphone/audio_samples/{save_prefix}/alt_speed\n",
        "!mkdir -p /content/drive/MyDrive/megaphone/audio_samples/{save_prefix}/random_word_slower_sample\n",
        "!mkdir -p /content/drive/MyDrive/megaphone/audio_samples/{save_prefix}/chosen_word_slower_sample\n",
        "\n",
        "!mkdir -p /content/drive/MyDrive/megaphone/audio_samples/{save_prefix}/all_pitched_down\n",
        "!mkdir -p /content/drive/MyDrive/megaphone/audio_samples/{save_prefix}/alt_pitch\n",
        "!mkdir -p /content/drive/MyDrive/megaphone/audio_samples/{save_prefix}/random_word_pitched_down_sample\n",
        "!mkdir -p /content/drive/MyDrive/megaphone/audio_samples/{save_prefix}/chosen_word_pitched_down_sample\n",
        "\n",
        "!mkdir -p /content/drive/MyDrive/megaphone/audio_samples/{save_prefix}/all_slow_rand_pitched\n",
        "!mkdir -p /content/drive/MyDrive/megaphone/audio_samples/{save_prefix}/all_slow_chosen_pitched\n",
        "!mkdir -p /content/drive/MyDrive/megaphone/audio_samples/{save_prefix}/all_pitched_rand_slow\n",
        "!mkdir -p /content/drive/MyDrive/megaphone/audio_samples/{save_prefix}/all_pitched_chosen_slow"
      ],
      "metadata": {
        "id": "Qlj4gKLANoIw"
      },
      "execution_count": null,
      "outputs": []
    },
    {
      "cell_type": "code",
      "source": [
        "# generate and save all slow-only alterations\n",
        "for p_slow in p_slowers:\n",
        "  all_slowed = u.all_slow(y, p_slow)\n",
        "  alt_speed = u.alternate_speed(y, p_slow, start_times)\n",
        "  random_word_slower_sample = u.random_word_slow(y, p_slow, start_times)\n",
        "  chosen_word_slower_sample = u.chosen_word_slower(y, p_slow, start_times, words, pos = \"verb\")\n",
        "  write1()\n",
        "\n",
        "# generate and save all pitch-only alterations\n",
        "for d_pitch in d_pitches:\n",
        "  all_pitched_down = u.all_pitched_down(y, d_pitch)\n",
        "  alt_pitch = u.alternate_pitch(y, d_pitch, start_times)\n",
        "  random_word_pitched_down_sample = u.random_word_pitched_down(y, d_pitch, start_times)\n",
        "  chosen_word_pitched_down_sample = u.chosen_word_pitched_down(y, d_pitch, start_times, words, pos = \"verb\")\n",
        "  write2()\n",
        "\n",
        "\n",
        "# generate and save all slow and pitch alterations\n",
        "for p_slow in p_slowers:\n",
        "  for d_pitch in d_pitches:\n",
        "    all_slow_rand_pitched = u.all_slow_random_word_pitched_down(y, p_slow, d_pitch, start_times)\n",
        "    all_slow_chosen_pitched = u.all_slow_chosen_word_pitched_down(y, p_slow, d_pitch, start_times, words, \"verb\")\n",
        "    try:\n",
        "      all_pitched_rand_slow = u.all_pitched_down_random_slowed(y, p_slow, d_pitch, start_times)\n",
        "    except:\n",
        "      pass\n",
        "    try:\n",
        "      all_pitched_chosen_slow = u.all_pitched_down_chosen_word_slowed(y, p_slow, d_pitch, start_times, words, \"verb\")\n",
        "    except:\n",
        "      pass\n",
        "    write3()"
      ],
      "metadata": {
        "id": "D_Nd2FsNJT2a"
      },
      "execution_count": null,
      "outputs": []
    },
    {
      "cell_type": "code",
      "source": [
        "import shutil\n",
        "\n",
        "# move files from colab to drive\n",
        "def move_wav_files_to_drive(source_folder, destination_folder):\n",
        "    import os\n",
        "    source_folder_path = source_folder\n",
        "    destination_folder_path = destination_folder\n",
        "\n",
        "    # Get a list of all files in the source folder\n",
        "    files = os.listdir(source_folder_path)\n",
        "\n",
        "    # Iterate through files and move WAV files to the destination folder\n",
        "    for file in files:\n",
        "        if file.lower().endswith(\".wav\"):\n",
        "          #print(file.split(\"$\"))\n",
        "          to_match = file.split(\"$\")[1].split(\".\")[0]\n",
        "          print(to_match)\n",
        "          for dir in os.listdir(destination_folder):\n",
        "            if to_match == dir:\n",
        "              try:\n",
        "                shutil.move(os.path.join(source_folder_path, file), os.path.join(destination_folder_path, dir, file))\n",
        "                print(f\"Moved {file} to {destination_folder}\")\n",
        "              except Exception as e:\n",
        "                print(f\"Error moving {file}: {e}\")\n"
      ],
      "metadata": {
        "id": "dUT0_qgLRIGX"
      },
      "execution_count": null,
      "outputs": []
    },
    {
      "cell_type": "code",
      "source": [
        "# move files from colab to drive\n",
        "import os\n",
        "current_dir = os.getcwd()\n",
        "move_wav_files_to_drive(current_dir, save_path)"
      ],
      "metadata": {
        "id": "ZJtLmhoZOzLm"
      },
      "execution_count": null,
      "outputs": []
    },
    {
      "cell_type": "code",
      "source": [],
      "metadata": {
        "id": "U1g0w9wizSy6"
      },
      "execution_count": null,
      "outputs": []
    }
  ]
}